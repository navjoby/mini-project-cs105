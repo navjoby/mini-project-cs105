{
  "cells": [
    {
      "cell_type": "markdown",
      "metadata": {
        "id": "6ZufxZhF1mdo"
      },
      "source": [
        "# Mini Project\n"
      ]
    },
    {
      "cell_type": "markdown",
      "metadata": {
        "id": "dMo9QxY72PF4"
      },
      "source": [
        "Completed by Naveen Joby, Arhum Shahid, and Apar Mistry"
      ]
    },
    {
      "cell_type": "code",
      "execution_count": 1,
      "metadata": {
        "colab": {
          "base_uri": "https://localhost:8080/",
          "height": 572
        },
        "id": "alqsIz5O1V-H",
        "outputId": "1de4bc72-f7ee-4dc3-8651-c4044783b47c"
      },
      "outputs": [
        {
          "data": {
            "text/html": [
              "<div>\n",
              "<style scoped>\n",
              "    .dataframe tbody tr th:only-of-type {\n",
              "        vertical-align: middle;\n",
              "    }\n",
              "\n",
              "    .dataframe tbody tr th {\n",
              "        vertical-align: top;\n",
              "    }\n",
              "\n",
              "    .dataframe thead th {\n",
              "        text-align: right;\n",
              "    }\n",
              "</style>\n",
              "<table border=\"1\" class=\"dataframe\">\n",
              "  <thead>\n",
              "    <tr style=\"text-align: right;\">\n",
              "      <th></th>\n",
              "      <th>Index</th>\n",
              "      <th>What is your age?</th>\n",
              "      <th>What gender do you identify as?</th>\n",
              "      <th>What school are you from</th>\n",
              "      <th>How many times did you go to campus to attend class this week?</th>\n",
              "      <th>If a class is hybrid, how often do you attend in person (0-5 scale: 0 being never, 5 being almost all classes)?</th>\n",
              "      <th>What percent of your grade is in-class exercises (0-100%)</th>\n",
              "      <th>How hard was it to find parking for the days you DID choose to attend? (1-5 scale, 5 being impossible)</th>\n",
              "      <th>How much time does it usually take for you to go to campus? (min)</th>\n",
              "    </tr>\n",
              "  </thead>\n",
              "  <tbody>\n",
              "    <tr>\n",
              "      <th>0</th>\n",
              "      <td>1</td>\n",
              "      <td>21</td>\n",
              "      <td>Man</td>\n",
              "      <td>UCR</td>\n",
              "      <td>5</td>\n",
              "      <td>1</td>\n",
              "      <td>5</td>\n",
              "      <td>3</td>\n",
              "      <td>10</td>\n",
              "    </tr>\n",
              "    <tr>\n",
              "      <th>1</th>\n",
              "      <td>2</td>\n",
              "      <td>22</td>\n",
              "      <td>Woman</td>\n",
              "      <td>UCR</td>\n",
              "      <td>7</td>\n",
              "      <td>0</td>\n",
              "      <td>5</td>\n",
              "      <td>2</td>\n",
              "      <td>2</td>\n",
              "    </tr>\n",
              "    <tr>\n",
              "      <th>2</th>\n",
              "      <td>3</td>\n",
              "      <td>22</td>\n",
              "      <td>Man</td>\n",
              "      <td>UCLA</td>\n",
              "      <td>4</td>\n",
              "      <td>2</td>\n",
              "      <td>10</td>\n",
              "      <td>4</td>\n",
              "      <td>15</td>\n",
              "    </tr>\n",
              "    <tr>\n",
              "      <th>3</th>\n",
              "      <td>4</td>\n",
              "      <td>22</td>\n",
              "      <td>Man</td>\n",
              "      <td>UCLA</td>\n",
              "      <td>3</td>\n",
              "      <td>1</td>\n",
              "      <td>10</td>\n",
              "      <td>4</td>\n",
              "      <td>19</td>\n",
              "    </tr>\n",
              "    <tr>\n",
              "      <th>4</th>\n",
              "      <td>5</td>\n",
              "      <td>23</td>\n",
              "      <td>Man</td>\n",
              "      <td>UCLA</td>\n",
              "      <td>6</td>\n",
              "      <td>1</td>\n",
              "      <td>5</td>\n",
              "      <td>3</td>\n",
              "      <td>10</td>\n",
              "    </tr>\n",
              "    <tr>\n",
              "      <th>...</th>\n",
              "      <td>...</td>\n",
              "      <td>...</td>\n",
              "      <td>...</td>\n",
              "      <td>...</td>\n",
              "      <td>...</td>\n",
              "      <td>...</td>\n",
              "      <td>...</td>\n",
              "      <td>...</td>\n",
              "      <td>...</td>\n",
              "    </tr>\n",
              "    <tr>\n",
              "      <th>89</th>\n",
              "      <td>90</td>\n",
              "      <td>21</td>\n",
              "      <td>Man</td>\n",
              "      <td>UCLA</td>\n",
              "      <td>5</td>\n",
              "      <td>2</td>\n",
              "      <td>10</td>\n",
              "      <td>3</td>\n",
              "      <td>3</td>\n",
              "    </tr>\n",
              "    <tr>\n",
              "      <th>90</th>\n",
              "      <td>91</td>\n",
              "      <td>19</td>\n",
              "      <td>Woman</td>\n",
              "      <td>Norco City College</td>\n",
              "      <td>7</td>\n",
              "      <td>1</td>\n",
              "      <td>10</td>\n",
              "      <td>2</td>\n",
              "      <td>2</td>\n",
              "    </tr>\n",
              "    <tr>\n",
              "      <th>91</th>\n",
              "      <td>92</td>\n",
              "      <td>19</td>\n",
              "      <td>Woman</td>\n",
              "      <td>RCC</td>\n",
              "      <td>8</td>\n",
              "      <td>3</td>\n",
              "      <td>25</td>\n",
              "      <td>2</td>\n",
              "      <td>10</td>\n",
              "    </tr>\n",
              "    <tr>\n",
              "      <th>92</th>\n",
              "      <td>93</td>\n",
              "      <td>19</td>\n",
              "      <td>Man</td>\n",
              "      <td>Crafton Hills</td>\n",
              "      <td>6</td>\n",
              "      <td>1</td>\n",
              "      <td>10</td>\n",
              "      <td>3</td>\n",
              "      <td>5</td>\n",
              "    </tr>\n",
              "    <tr>\n",
              "      <th>93</th>\n",
              "      <td>94</td>\n",
              "      <td>18</td>\n",
              "      <td>Man</td>\n",
              "      <td>UCLA</td>\n",
              "      <td>5</td>\n",
              "      <td>0</td>\n",
              "      <td>15</td>\n",
              "      <td>3</td>\n",
              "      <td>12</td>\n",
              "    </tr>\n",
              "  </tbody>\n",
              "</table>\n",
              "<p>94 rows × 9 columns</p>\n",
              "</div>"
            ],
            "text/plain": [
              "    Index  What is your age? What gender do you identify as?  \\\n",
              "0       1                 21                             Man   \n",
              "1       2                 22                           Woman   \n",
              "2       3                 22                             Man   \n",
              "3       4                 22                             Man   \n",
              "4       5                 23                             Man   \n",
              "..    ...                ...                             ...   \n",
              "89     90                 21                             Man   \n",
              "90     91                 19                           Woman   \n",
              "91     92                 19                           Woman   \n",
              "92     93                 19                             Man   \n",
              "93     94                 18                             Man   \n",
              "\n",
              "   What school are you from  \\\n",
              "0                       UCR   \n",
              "1                       UCR   \n",
              "2                      UCLA   \n",
              "3                      UCLA   \n",
              "4                      UCLA   \n",
              "..                      ...   \n",
              "89                     UCLA   \n",
              "90       Norco City College   \n",
              "91                      RCC   \n",
              "92            Crafton Hills   \n",
              "93                     UCLA   \n",
              "\n",
              "    How many times did you go to campus to attend class this week?  \\\n",
              "0                                                   5                \n",
              "1                                                   7                \n",
              "2                                                   4                \n",
              "3                                                   3                \n",
              "4                                                   6                \n",
              "..                                                ...                \n",
              "89                                                  5                \n",
              "90                                                  7                \n",
              "91                                                  8                \n",
              "92                                                  6                \n",
              "93                                                  5                \n",
              "\n",
              "    If a class is hybrid, how often do you attend in person (0-5 scale: 0 being never, 5 being almost all classes)?  \\\n",
              "0                                                   1                                                                 \n",
              "1                                                   0                                                                 \n",
              "2                                                   2                                                                 \n",
              "3                                                   1                                                                 \n",
              "4                                                   1                                                                 \n",
              "..                                                ...                                                                 \n",
              "89                                                  2                                                                 \n",
              "90                                                  1                                                                 \n",
              "91                                                  3                                                                 \n",
              "92                                                  1                                                                 \n",
              "93                                                  0                                                                 \n",
              "\n",
              "    What percent of your grade is in-class exercises (0-100%)  \\\n",
              "0                                                   5           \n",
              "1                                                   5           \n",
              "2                                                  10           \n",
              "3                                                  10           \n",
              "4                                                   5           \n",
              "..                                                ...           \n",
              "89                                                 10           \n",
              "90                                                 10           \n",
              "91                                                 25           \n",
              "92                                                 10           \n",
              "93                                                 15           \n",
              "\n",
              "    How hard was it to find parking for the days you DID choose to attend? (1-5 scale, 5 being impossible)  \\\n",
              "0                                                   3                                                        \n",
              "1                                                   2                                                        \n",
              "2                                                   4                                                        \n",
              "3                                                   4                                                        \n",
              "4                                                   3                                                        \n",
              "..                                                ...                                                        \n",
              "89                                                  3                                                        \n",
              "90                                                  2                                                        \n",
              "91                                                  2                                                        \n",
              "92                                                  3                                                        \n",
              "93                                                  3                                                        \n",
              "\n",
              "    How much time does it usually take for you to go to campus? (min)  \n",
              "0                                                  10                  \n",
              "1                                                   2                  \n",
              "2                                                  15                  \n",
              "3                                                  19                  \n",
              "4                                                  10                  \n",
              "..                                                ...                  \n",
              "89                                                  3                  \n",
              "90                                                  2                  \n",
              "91                                                 10                  \n",
              "92                                                  5                  \n",
              "93                                                 12                  \n",
              "\n",
              "[94 rows x 9 columns]"
            ]
          },
          "execution_count": 1,
          "metadata": {},
          "output_type": "execute_result"
        }
      ],
      "source": [
        "import pandas as pd\n",
        "import matplotlib.pyplot as plt\n",
        "import numpy as np\n",
        "df = pd.read_csv(\"cs105.csv\")\n",
        "df.at[58, 'What school are you from'] = 'UCLA' # in the response, the person put a space after\n",
        "df\n",
        "#df.head()"
      ]
    },
    {
      "cell_type": "markdown",
      "metadata": {
        "id": "gEP6Jr3jsHcr"
      },
      "source": [
        "\n",
        "### Questions 1 and 2"
      ]
    },
    {
      "cell_type": "markdown",
      "metadata": {
        "id": "Q62OOXB53nAE"
      },
      "source": [
        "We have data from about 95 college-level students that attend schools around California, a majority of which are from SoCal and are commuters. These students are in the age group of about 18-23. We also have data gathered that shows how many times students come to class in a given week, how hard it was to park and to get to campus, and their thoughts on attending classes based off of graded participation. One of the reasons why we chose this was because we noticed a trend with commuters that tend to skip class because of parking and traffic issues.\n",
        "\n",
        "What we would like to know is if the time it takes students to come to campus affects how many times they come to campus to attend class.\n",
        "What we would also like to know is if students tend to skip in person classes due to parking difficulties and/or the time it takes for them to come.\n",
        "Moreover, we want to see if in-class exercises have the ability to influence in-person attendance with hybrid classes."
      ]
    },
    {
      "cell_type": "markdown",
      "metadata": {
        "id": "ZL_XXJqG6597"
      },
      "source": [
        "First, we wanted to just look at our demographics and see if we notice anything interesting."
      ]
    },
    {
      "cell_type": "code",
      "execution_count": null,
      "metadata": {
        "colab": {
          "base_uri": "https://localhost:8080/",
          "height": 265
        },
        "id": "EOrEJZEC-wno",
        "outputId": "70067392-8769-42cf-9901-ee0145335465"
      },
      "outputs": [
        {
          "data": {
            "text/plain": [
              "<matplotlib.axes._subplots.AxesSubplot at 0x7f29d9085e90>"
            ]
          },
          "execution_count": 2,
          "metadata": {},
          "output_type": "execute_result"
        },
        {
          "data": {
            "image/png": "[encoded data removed]",
            "text/plain": [
              "<Figure size 432x288 with 1 Axes>"
            ]
          },
          "metadata": {},
          "output_type": "display_data"
        }
      ],
      "source": [
        "\n",
        "age = df[\"What is your age?\"]\n",
        "gender = df[\"What gender do you identify as?\"]\n",
        "school = df[\"What school are you from\"]\n",
        "commuteTime = df[\"How much time does it usually take for you to go to campus? (min)\"]\n",
        "attendance = df[\"How many times did you go to campus to attend class this week?\"] # classes they attended\n",
        "\n",
        "# pie chart for age\n",
        "df[\"What is your age?\"].value_counts().plot.pie()"
      ]
    },
    {
      "cell_type": "markdown",
      "metadata": {
        "id": "rBf-hAHCJB5l"
      },
      "source": [
        "This provides us with some insight about the ages of all the people that are completing this. Everyone in this data set is of age 18-23, with the 19, 21, and 22 year olds making up more than 2/3 of the pie. This is what we want, as most college attendees are within the ages of 18-25. Additionally, they have the ability to drive (old enough to get their license) and most likely have a method of transportation which is what we want to analyze.\n",
        "\n",
        "We can also now look at the schools of all the people that filled out the survey. "
      ]
    },
    {
      "cell_type": "code",
      "execution_count": null,
      "metadata": {
        "colab": {
          "base_uri": "https://localhost:8080/",
          "height": 365
        },
        "id": "UfZU0Pxka2Em",
        "outputId": "65b41059-cd19-4af3-f580-28ae6cab4c29"
      },
      "outputs": [
        {
          "data": {
            "text/plain": [
              "<matplotlib.axes._subplots.AxesSubplot at 0x7f29d8fb6090>"
            ]
          },
          "execution_count": 3,
          "metadata": {},
          "output_type": "execute_result"
        },
        {
          "data": {
            "image/png": "[encoded data removed]",
            "text/plain": [
              "<Figure size 432x288 with 1 Axes>"
            ]
          },
          "metadata": {
            "needs_background": "light"
          },
          "output_type": "display_data"
        }
      ],
      "source": [
        "# code for pie chart for schools\n",
        "vals = df['What school are you from'].value_counts()\n",
        "#vals = vals.drop(labels=['UCLA ']);\n",
        "vals.plot.bar()"
      ]
    },
    {
      "cell_type": "markdown",
      "metadata": {
        "id": "Lo8IPTkja5Go"
      },
      "source": [
        "The majority of our respondents were from UCLA, UCR, and UCI, making almost 2/3 of the data. Each of these 3 colleges were more or less equal, with allows us to view trends that are not just at UCR. Although the majority were from UCs, some people were from Community Colleges and Cal States.\n",
        "\n",
        "This provides an adequate sample size that also allows us to view commuter trends across different schools, not just at UCR (which was the reason for this survey being outside of class). Moreover, many factors can correlate on the desire to attend class, so this method provides more accurate data based off a larger geographic region across Southern California.  "
      ]
    },
    {
      "cell_type": "markdown",
      "metadata": {
        "id": "cppNu3vdZQUL"
      },
      "source": [
        "Now, we wanted to look at the relationships between gender and age vs the amount of classes attended in a week. For this we decided to show stacked bar charts for both relationships."
      ]
    },
    {
      "cell_type": "code",
      "execution_count": null,
      "metadata": {
        "colab": {
          "base_uri": "https://localhost:8080/",
          "height": 324
        },
        "id": "0Ci0VivPcSWw",
        "outputId": "4f1472dd-36ca-4a7f-8d9b-1a1d6f7e2abf"
      },
      "outputs": [
        {
          "data": {
            "text/plain": [
              "<matplotlib.legend.Legend at 0x7f29d8a41c90>"
            ]
          },
          "execution_count": 4,
          "metadata": {},
          "output_type": "execute_result"
        },
        {
          "data": {
            "image/png": "[encoded data removed]",
            "text/plain": [
              "<Figure size 432x288 with 1 Axes>"
            ]
          },
          "metadata": {
            "needs_background": "light"
          },
          "output_type": "display_data"
        }
      ],
      "source": [
        "# code for stacked bar chart, should be between gender and how many times they attended a class\n",
        "\n",
        "stacked = pd.crosstab(gender, attendance)\n",
        "stacked.plot.bar(stacked=True).legend(loc='best')"
      ]
    },
    {
      "cell_type": "markdown",
      "metadata": {
        "id": "BTdS-neZbs4w"
      },
      "source": [
        "In the bar chart above, each color signifies the amount of classes a student chose to attend on campus. From the chart above, we can tell that both men and women mostly attended 4-6 classes. Both genders attended class at a similiar rate. However, this data is circumstantial and doesn't really provide us with much information. This doesn't show any patterns or trends, which allows us to look at commuter times and parking times independent of gender.\n"
      ]
    },
    {
      "cell_type": "markdown",
      "metadata": {
        "id": "KQZWkGDv8CE_"
      },
      "source": [
        "However, just because gender didn't show a relationship with attending classes in a week doesn't mean that differing ages won't."
      ]
    },
    {
      "cell_type": "code",
      "execution_count": null,
      "metadata": {
        "colab": {
          "base_uri": "https://localhost:8080/",
          "height": 299
        },
        "id": "ky25p-Jb8Bm9",
        "outputId": "ffa8cbbe-83f5-4baa-bb14-f8929a3e6036"
      },
      "outputs": [
        {
          "data": {
            "text/plain": [
              "<matplotlib.legend.Legend at 0x7f29d890b810>"
            ]
          },
          "execution_count": 5,
          "metadata": {},
          "output_type": "execute_result"
        },
        {
          "data": {
            "image/png": "[encoded data removed]",
            "text/plain": [
              "<Figure size 432x288 with 1 Axes>"
            ]
          },
          "metadata": {
            "needs_background": "light"
          },
          "output_type": "display_data"
        }
      ],
      "source": [
        "stacked2 = pd.crosstab(age, attendance, normalize = True)\n",
        "#stacked2\n",
        "stacked2.plot.bar(stacked=True).legend(loc='best')"
      ]
    },
    {
      "cell_type": "markdown",
      "metadata": {
        "id": "TA-72N8B-57s"
      },
      "source": [
        "Once again, this doesn't really show much. Most people said they attended 4-6 classes in a week, irrespective of age. There don't seem to be any noticable differences across age, which allows us to disregard age as a potential factor in skewing our data. "
      ]
    },
    {
      "cell_type": "markdown",
      "metadata": {
        "id": "vjdy0oFasipi"
      },
      "source": [
        "### Questions 4 and 5"
      ]
    },
    {
      "cell_type": "markdown",
      "metadata": {
        "id": "dWAU6gXRs3YC"
      },
      "source": [
        "**Hypothesis 1**\n",
        "\n",
        "The main question that we wanted to answer was whether the time it takes to go to campus would affect student's willingness to go to their in-person classes.\n",
        "\n",
        "\n",
        "Therefore, our main hypothesis was that **students that have to commute for longer will be less likely to attend their in-person classes**\n",
        "\n",
        "--------\n",
        "\n",
        "\n",
        "Null: The time it takes to commute does not affect student's willingness to go to their in-person classes.\n",
        "\n",
        "Alternate: The time it takes to commute does affect student's willingness to go to their in-person classes"
      ]
    },
    {
      "cell_type": "markdown",
      "metadata": {
        "id": "qXP1EewqzztB"
      },
      "source": [
        "In order to test this first hypothesis, we decided to perform a correlation analysis between how long it takes to go to campus vs. how many times people attended within a given week. "
      ]
    },
    {
      "cell_type": "code",
      "execution_count": null,
      "metadata": {
        "colab": {
          "base_uri": "https://localhost:8080/",
          "height": 279
        },
        "id": "puzos0pf4g_8",
        "outputId": "157edc96-51ae-4239-c12d-9aae496db7bb"
      },
      "outputs": [
        {
          "data": {
            "image/png": "[encoded data removed]",
            "text/plain": [
              "<Figure size 432x288 with 1 Axes>"
            ]
          },
          "metadata": {
            "needs_background": "light"
          },
          "output_type": "display_data"
        }
      ],
      "source": [
        "commuteTime = df[\"How much time does it usually take for you to go to campus? (min)\"]\n",
        "attendance = df[\"How many times did you go to campus to attend class this week?\"] # classes they attended\n",
        "\n",
        "m, b = np. polyfit(commuteTime, attendance, 1)# m = slope, b = intercept\n",
        "# this allows us to get the start and end spots for the plot\n",
        "\n",
        "\n",
        "\n",
        "# scatter plot\n",
        "plt.scatter(commuteTime, attendance, s = 12, c = \"blue\")\n",
        "plt.xlabel(\"Time to Get to Campus\")\n",
        "plt.ylabel(\"How Many Attended\")\n",
        "\n",
        "# line for scatter plot\n",
        "plt.plot(commuteTime, m*commuteTime+b, color = 'purple')\n",
        "\n",
        "plt.show()"
      ]
    },
    {
      "cell_type": "code",
      "execution_count": null,
      "metadata": {
        "colab": {
          "base_uri": "https://localhost:8080/"
        },
        "id": "y9o4IG9K6XKu",
        "outputId": "2117a957-396e-4904-e892-8f793402d207"
      },
      "outputs": [
        {
          "name": "stdout",
          "output_type": "stream",
          "text": [
            "Correlation Value:  -0.54472\n"
          ]
        }
      ],
      "source": [
        "# calculate the pearson's correlation between two variables\n",
        "corr = attendance.corr(commuteTime, method = 'pearson')\n",
        "print(\"Correlation Value: \" , round(corr, 5)) # round to 5 spots"
      ]
    },
    {
      "cell_type": "markdown",
      "metadata": {
        "id": "xrEudRCS_F8Q"
      },
      "source": [
        "From the graph and values shown above, we can say that the time it takes to get to campus has a negative correlation to how many classes students attend on campus per week. The more time it takes to get to campus, the less classes students attend. To conclude, there is sufficient evidence to conclude that there is a significant linear relationship between x and y because the correlation coefficient is significantly different from zero. "
      ]
    },
    {
      "cell_type": "markdown",
      "metadata": {
        "id": "kkGetHI6CJe-"
      },
      "source": [
        "Now, we can also perform a chi-squared analysis of these variables. However, the attendance needs to be grouped into sections in order to perform a proper analysis. So let's say that if they attended more than 4 classes that week, they were likely to attend a given class. If not, they are unlikely to attend."
      ]
    },
    {
      "cell_type": "code",
      "execution_count": null,
      "metadata": {
        "colab": {
          "base_uri": "https://localhost:8080/",
          "height": 582
        },
        "id": "YAFmabhxUy2W",
        "outputId": "7e9f5965-fa23-4737-c0b5-70eb39fea27e"
      },
      "outputs": [
        {
          "data": {
            "text/html": [
              "\n",
              "  <div id=\"df-0a30bd4e-0b6c-4514-862b-020696b21a36\">\n",
              "    <div class=\"colab-df-container\">\n",
              "      <div>\n",
              "<style scoped>\n",
              "    .dataframe tbody tr th:only-of-type {\n",
              "        vertical-align: middle;\n",
              "    }\n",
              "\n",
              "    .dataframe tbody tr th {\n",
              "        vertical-align: top;\n",
              "    }\n",
              "\n",
              "    .dataframe thead th {\n",
              "        text-align: right;\n",
              "    }\n",
              "</style>\n",
              "<table border=\"1\" class=\"dataframe\">\n",
              "  <thead>\n",
              "    <tr style=\"text-align: right;\">\n",
              "      <th></th>\n",
              "      <th>Time</th>\n",
              "      <th>Likely to Attend</th>\n",
              "      <th>Not Likely to Attend</th>\n",
              "    </tr>\n",
              "  </thead>\n",
              "  <tbody>\n",
              "    <tr>\n",
              "      <th>0</th>\n",
              "      <td>2</td>\n",
              "      <td>14</td>\n",
              "      <td>0</td>\n",
              "    </tr>\n",
              "    <tr>\n",
              "      <th>1</th>\n",
              "      <td>3</td>\n",
              "      <td>5</td>\n",
              "      <td>0</td>\n",
              "    </tr>\n",
              "    <tr>\n",
              "      <th>2</th>\n",
              "      <td>4</td>\n",
              "      <td>1</td>\n",
              "      <td>1</td>\n",
              "    </tr>\n",
              "    <tr>\n",
              "      <th>3</th>\n",
              "      <td>5</td>\n",
              "      <td>8</td>\n",
              "      <td>0</td>\n",
              "    </tr>\n",
              "    <tr>\n",
              "      <th>4</th>\n",
              "      <td>7</td>\n",
              "      <td>1</td>\n",
              "      <td>0</td>\n",
              "    </tr>\n",
              "    <tr>\n",
              "      <th>5</th>\n",
              "      <td>8</td>\n",
              "      <td>1</td>\n",
              "      <td>0</td>\n",
              "    </tr>\n",
              "    <tr>\n",
              "      <th>6</th>\n",
              "      <td>10</td>\n",
              "      <td>23</td>\n",
              "      <td>5</td>\n",
              "    </tr>\n",
              "    <tr>\n",
              "      <th>7</th>\n",
              "      <td>12</td>\n",
              "      <td>4</td>\n",
              "      <td>1</td>\n",
              "    </tr>\n",
              "    <tr>\n",
              "      <th>8</th>\n",
              "      <td>13</td>\n",
              "      <td>2</td>\n",
              "      <td>2</td>\n",
              "    </tr>\n",
              "    <tr>\n",
              "      <th>9</th>\n",
              "      <td>15</td>\n",
              "      <td>1</td>\n",
              "      <td>10</td>\n",
              "    </tr>\n",
              "    <tr>\n",
              "      <th>10</th>\n",
              "      <td>17</td>\n",
              "      <td>1</td>\n",
              "      <td>0</td>\n",
              "    </tr>\n",
              "    <tr>\n",
              "      <th>11</th>\n",
              "      <td>18</td>\n",
              "      <td>0</td>\n",
              "      <td>1</td>\n",
              "    </tr>\n",
              "    <tr>\n",
              "      <th>12</th>\n",
              "      <td>19</td>\n",
              "      <td>0</td>\n",
              "      <td>2</td>\n",
              "    </tr>\n",
              "    <tr>\n",
              "      <th>13</th>\n",
              "      <td>20</td>\n",
              "      <td>1</td>\n",
              "      <td>6</td>\n",
              "    </tr>\n",
              "    <tr>\n",
              "      <th>14</th>\n",
              "      <td>22</td>\n",
              "      <td>0</td>\n",
              "      <td>1</td>\n",
              "    </tr>\n",
              "    <tr>\n",
              "      <th>15</th>\n",
              "      <td>25</td>\n",
              "      <td>1</td>\n",
              "      <td>1</td>\n",
              "    </tr>\n",
              "    <tr>\n",
              "      <th>16</th>\n",
              "      <td>27</td>\n",
              "      <td>0</td>\n",
              "      <td>1</td>\n",
              "    </tr>\n",
              "  </tbody>\n",
              "</table>\n",
              "</div>\n",
              "      <button class=\"colab-df-convert\" onclick=\"convertToInteractive('df-0a30bd4e-0b6c-4514-862b-020696b21a36')\"\n",
              "              title=\"Convert this dataframe to an interactive table.\"\n",
              "              style=\"display:none;\">\n",
              "        \n",
              "  <svg xmlns=\"http://www.w3.org/2000/svg\" height=\"24px\"viewBox=\"0 0 24 24\"\n",
              "       width=\"24px\">\n",
              "    <path d=\"M0 0h24v24H0V0z\" fill=\"none\"/>\n",
              "    <path d=\"M18.56 5.44l.94 2.06.94-2.06 2.06-.94-2.06-.94-.94-2.06-.94 2.06-2.06.94zm-11 1L8.5 8.5l.94-2.06 2.06-.94-2.06-.94L8.5 2.5l-.94 2.06-2.06.94zm10 10l.94 2.06.94-2.06 2.06-.94-2.06-.94-.94-2.06-.94 2.06-2.06.94z\"/><path d=\"M17.41 7.96l-1.37-1.37c-.4-.4-.92-.59-1.43-.59-.52 0-1.04.2-1.43.59L10.3 9.45l-7.72 7.72c-.78.78-.78 2.05 0 2.83L4 21.41c.39.39.9.59 1.41.59.51 0 1.02-.2 1.41-.59l7.78-7.78 2.81-2.81c.8-.78.8-2.07 0-2.86zM5.41 20L4 18.59l7.72-7.72 1.47 1.35L5.41 20z\"/>\n",
              "  </svg>\n",
              "      </button>\n",
              "      \n",
              "  <style>\n",
              "    .colab-df-container {\n",
              "      display:flex;\n",
              "      flex-wrap:wrap;\n",
              "      gap: 12px;\n",
              "    }\n",
              "\n",
              "    .colab-df-convert {\n",
              "      background-color: #E8F0FE;\n",
              "      border: none;\n",
              "      border-radius: 50%;\n",
              "      cursor: pointer;\n",
              "      display: none;\n",
              "      fill: #1967D2;\n",
              "      height: 32px;\n",
              "      padding: 0 0 0 0;\n",
              "      width: 32px;\n",
              "    }\n",
              "\n",
              "    .colab-df-convert:hover {\n",
              "      background-color: #E2EBFA;\n",
              "      box-shadow: 0px 1px 2px rgba(60, 64, 67, 0.3), 0px 1px 3px 1px rgba(60, 64, 67, 0.15);\n",
              "      fill: #174EA6;\n",
              "    }\n",
              "\n",
              "    [theme=dark] .colab-df-convert {\n",
              "      background-color: #3B4455;\n",
              "      fill: #D2E3FC;\n",
              "    }\n",
              "\n",
              "    [theme=dark] .colab-df-convert:hover {\n",
              "      background-color: #434B5C;\n",
              "      box-shadow: 0px 1px 3px 1px rgba(0, 0, 0, 0.15);\n",
              "      filter: drop-shadow(0px 1px 2px rgba(0, 0, 0, 0.3));\n",
              "      fill: #FFFFFF;\n",
              "    }\n",
              "  </style>\n",
              "\n",
              "      <script>\n",
              "        const buttonEl =\n",
              "          document.querySelector('#df-0a30bd4e-0b6c-4514-862b-020696b21a36 button.colab-df-convert');\n",
              "        buttonEl.style.display =\n",
              "          google.colab.kernel.accessAllowed ? 'block' : 'none';\n",
              "\n",
              "        async function convertToInteractive(key) {\n",
              "          const element = document.querySelector('#df-0a30bd4e-0b6c-4514-862b-020696b21a36');\n",
              "          const dataTable =\n",
              "            await google.colab.kernel.invokeFunction('convertToInteractive',\n",
              "                                                     [key], {});\n",
              "          if (!dataTable) return;\n",
              "\n",
              "          const docLinkHtml = 'Like what you see? Visit the ' +\n",
              "            '<a target=\"_blank\" href=https://colab.research.google.com/notebooks/data_table.ipynb>data table notebook</a>'\n",
              "            + ' to learn more about interactive tables.';\n",
              "          element.innerHTML = '';\n",
              "          dataTable['output_type'] = 'display_data';\n",
              "          await google.colab.output.renderOutput(dataTable, element);\n",
              "          const docLink = document.createElement('div');\n",
              "          docLink.innerHTML = docLinkHtml;\n",
              "          element.appendChild(docLink);\n",
              "        }\n",
              "      </script>\n",
              "    </div>\n",
              "  </div>\n",
              "  "
            ],
            "text/plain": [
              "    Time  Likely to Attend  Not Likely to Attend\n",
              "0      2                14                     0\n",
              "1      3                 5                     0\n",
              "2      4                 1                     1\n",
              "3      5                 8                     0\n",
              "4      7                 1                     0\n",
              "5      8                 1                     0\n",
              "6     10                23                     5\n",
              "7     12                 4                     1\n",
              "8     13                 2                     2\n",
              "9     15                 1                    10\n",
              "10    17                 1                     0\n",
              "11    18                 0                     1\n",
              "12    19                 0                     2\n",
              "13    20                 1                     6\n",
              "14    22                 0                     1\n",
              "15    25                 1                     1\n",
              "16    27                 0                     1"
            ]
          },
          "execution_count": 8,
          "metadata": {},
          "output_type": "execute_result"
        }
      ],
      "source": [
        "# create a new table with the data necessary\n",
        "# counts = pd.crosstab(commuteTime, attendance)\n",
        "\n",
        "times = df['How much time does it usually take for you to go to campus? (min)'].unique()\n",
        "times.sort()\n",
        "\n",
        "data = {'Time':times}\n",
        "df2 = pd.DataFrame(data)\n",
        "df2[\"Likely to Attend\"] = 0\n",
        "df2['Not Likely to Attend'] = 0\n",
        "df2\n",
        "for ind in df.index:\n",
        "     if(df['How many times did you go to campus to attend class this week?'][ind] > 4):\n",
        "          timeVal = df['How much time does it usually take for you to go to campus? (min)'][ind]\n",
        "          timeVal\n",
        "          index = df2.index[df2['Time'] == timeVal].tolist()\n",
        "          index\n",
        "          df2['Likely to Attend'][index[0]] =  df2['Likely to Attend'][index[0]] + 1 \n",
        "     else:\n",
        "          timeVal = df['How much time does it usually take for you to go to campus? (min)'][ind]\n",
        "          timeVal\n",
        "          index = df2.index[df2['Time'] == timeVal].tolist()\n",
        "          index\n",
        "          df2[\"Not Likely to Attend\"][index[0]] = df2['Not Likely to Attend'][index[0]] + 1\n",
        "df2"
      ]
    },
    {
      "cell_type": "code",
      "execution_count": null,
      "metadata": {
        "colab": {
          "base_uri": "https://localhost:8080/"
        },
        "id": "X4Tb-hOB3DQS",
        "outputId": "1a57d737-8898-4a9e-bbf0-b5aa273bf337"
      },
      "outputs": [
        {
          "name": "stdout",
          "output_type": "stream",
          "text": [
            "The calculated chi squared value: 191.72670777947934 with a p-value: 1.1176289325481308e-24\n"
          ]
        }
      ],
      "source": [
        "# calculate the chi-square value of the dataset\n",
        "# this should work\n",
        "from scipy.stats import chi2_contingency\n",
        "# https://docs.scipy.org/doc/scipy/reference/generated/scipy.stats.chi2_contingency.html\n",
        "chi, p, dfree, expected = chi2_contingency(df2)\n",
        "print(\"The calculated chi squared value:\" , chi, \"with a p-value:\", p)\n"
      ]
    },
    {
      "cell_type": "markdown",
      "metadata": {
        "id": "fvdRi3rDLHiE"
      },
      "source": [
        "Since the p-value is less than alpha (significance level), we have no choice but to reject the null hypothesis. The chi-squared test confirms our correlation analysis.\n",
        "Therefore, there is a strong correlation between weekly attendance and time it takes to get to campus. "
      ]
    },
    {
      "cell_type": "markdown",
      "metadata": {
        "id": "Tf2Rc8hCd89t"
      },
      "source": [
        "This makes sense, if someone isn't feeling well or has doubts of attending class in-person, they are less likely to want to spend all the time driving. If they live further, they might not want to drive as far for just one class or for a class that is short or not mandatory. However, if they live closer, they can find justification in coming to class."
      ]
    },
    {
      "cell_type": "markdown",
      "metadata": {
        "id": "IjL5xWxsNhsW"
      },
      "source": [
        "------"
      ]
    },
    {
      "cell_type": "markdown",
      "metadata": {
        "id": "GYvwi5Molu5q"
      },
      "source": [
        "**Hypothesis 2**\n",
        "\n",
        "Another hypothesis that we wanted to test was that the harder it is to park, the less likely they are to attend their class\n",
        "\n",
        "Null: The time it takes to find parking does not affect student's willingness to go to their in-person classes.\n",
        "\n",
        "In order to test this hypothesis, we will be doing the same format as we did with the commute time.\n",
        "We'll do a correlation analysis between how long it takes to park vs. how many times people attended within a given week."
      ]
    },
    {
      "cell_type": "code",
      "execution_count": null,
      "metadata": {
        "colab": {
          "base_uri": "https://localhost:8080/",
          "height": 279
        },
        "id": "Rq7xQsZ2Qv_Q",
        "outputId": "d673bff4-0f14-409f-ffbc-6c28f316571b"
      },
      "outputs": [
        {
          "data": {
            "image/png": "[encoded data removed]",
            "text/plain": [
              "<Figure size 432x288 with 1 Axes>"
            ]
          },
          "metadata": {
            "needs_background": "light"
          },
          "output_type": "display_data"
        }
      ],
      "source": [
        "parkTime = df[\"How hard was it to find parking for the days you DID choose to attend? (1-5 scale, 5 being impossible)\"]\n",
        "\n",
        "m, b = np. polyfit(parkTime, attendance, 1)# m = slope, b = intercept\n",
        "# this allows us to get the start and end spots for the plot\n",
        "\n",
        "\n",
        "\n",
        "# scatter plot\n",
        "plt.scatter(parkTime, attendance, s = 12, c = \"red\")\n",
        "plt.xlabel(\"Finding Parking (1-5) \")\n",
        "plt.ylabel(\"How Many Attended\")\n",
        "\n",
        "# line for scatter plot\n",
        "plt.plot(parkTime, m*parkTime+b, color = 'blue')\n",
        "\n",
        "plt.show()"
      ]
    },
    {
      "cell_type": "code",
      "execution_count": null,
      "metadata": {
        "colab": {
          "base_uri": "https://localhost:8080/"
        },
        "id": "tXrnU6_gSCrP",
        "outputId": "2c669ea2-f543-4716-d0a1-f879174b8a51"
      },
      "outputs": [
        {
          "name": "stdout",
          "output_type": "stream",
          "text": [
            "Correlation Value:  -0.87557\n"
          ]
        }
      ],
      "source": [
        "# calculate the pearson's correlation between two variables\n",
        "corr = attendance.corr(parkTime, method = 'pearson')\n",
        "print(\"Correlation Value: \" , round(corr, 5)) # round to 5 spots"
      ]
    },
    {
      "cell_type": "markdown",
      "metadata": {
        "id": "ACXxOjWlSR-U"
      },
      "source": [
        "The graph and data shows a strong negative correlation between finding parking and the amount of classes attended. The more time it takes to park, the less classes students attend. To conclude, there is sufficient evidence to conclude that there is a significant linear relationship between x and y because the correlation coefficient is significantly different from zero. "
      ]
    },
    {
      "cell_type": "markdown",
      "metadata": {
        "id": "L8pxaBQaTFMZ"
      },
      "source": [
        "Let's do another chi-squared analysis of these two variables. Once again, the attendance needs to be grouped, with the same criteria as last time. Since the parking difficulty is already a scale, we don't need to group it."
      ]
    },
    {
      "cell_type": "code",
      "execution_count": null,
      "metadata": {
        "colab": {
          "base_uri": "https://localhost:8080/",
          "height": 206
        },
        "id": "JvBowtJWU0V7",
        "outputId": "a6c45365-9cbd-4b9c-b7fa-92567a8af189"
      },
      "outputs": [
        {
          "data": {
            "text/html": [
              "\n",
              "  <div id=\"df-4db25137-e83a-402e-8543-fbfaafc751f3\">\n",
              "    <div class=\"colab-df-container\">\n",
              "      <div>\n",
              "<style scoped>\n",
              "    .dataframe tbody tr th:only-of-type {\n",
              "        vertical-align: middle;\n",
              "    }\n",
              "\n",
              "    .dataframe tbody tr th {\n",
              "        vertical-align: top;\n",
              "    }\n",
              "\n",
              "    .dataframe thead th {\n",
              "        text-align: right;\n",
              "    }\n",
              "</style>\n",
              "<table border=\"1\" class=\"dataframe\">\n",
              "  <thead>\n",
              "    <tr style=\"text-align: right;\">\n",
              "      <th></th>\n",
              "      <th>Parking Difficulty (1-5)</th>\n",
              "      <th>Likely to Attend</th>\n",
              "      <th>Not Likely to Attend</th>\n",
              "    </tr>\n",
              "  </thead>\n",
              "  <tbody>\n",
              "    <tr>\n",
              "      <th>0</th>\n",
              "      <td>1</td>\n",
              "      <td>3</td>\n",
              "      <td>0</td>\n",
              "    </tr>\n",
              "    <tr>\n",
              "      <th>1</th>\n",
              "      <td>2</td>\n",
              "      <td>21</td>\n",
              "      <td>1</td>\n",
              "    </tr>\n",
              "    <tr>\n",
              "      <th>2</th>\n",
              "      <td>3</td>\n",
              "      <td>39</td>\n",
              "      <td>5</td>\n",
              "    </tr>\n",
              "    <tr>\n",
              "      <th>3</th>\n",
              "      <td>4</td>\n",
              "      <td>0</td>\n",
              "      <td>17</td>\n",
              "    </tr>\n",
              "    <tr>\n",
              "      <th>4</th>\n",
              "      <td>5</td>\n",
              "      <td>0</td>\n",
              "      <td>8</td>\n",
              "    </tr>\n",
              "  </tbody>\n",
              "</table>\n",
              "</div>\n",
              "      <button class=\"colab-df-convert\" onclick=\"convertToInteractive('df-4db25137-e83a-402e-8543-fbfaafc751f3')\"\n",
              "              title=\"Convert this dataframe to an interactive table.\"\n",
              "              style=\"display:none;\">\n",
              "        \n",
              "  <svg xmlns=\"http://www.w3.org/2000/svg\" height=\"24px\"viewBox=\"0 0 24 24\"\n",
              "       width=\"24px\">\n",
              "    <path d=\"M0 0h24v24H0V0z\" fill=\"none\"/>\n",
              "    <path d=\"M18.56 5.44l.94 2.06.94-2.06 2.06-.94-2.06-.94-.94-2.06-.94 2.06-2.06.94zm-11 1L8.5 8.5l.94-2.06 2.06-.94-2.06-.94L8.5 2.5l-.94 2.06-2.06.94zm10 10l.94 2.06.94-2.06 2.06-.94-2.06-.94-.94-2.06-.94 2.06-2.06.94z\"/><path d=\"M17.41 7.96l-1.37-1.37c-.4-.4-.92-.59-1.43-.59-.52 0-1.04.2-1.43.59L10.3 9.45l-7.72 7.72c-.78.78-.78 2.05 0 2.83L4 21.41c.39.39.9.59 1.41.59.51 0 1.02-.2 1.41-.59l7.78-7.78 2.81-2.81c.8-.78.8-2.07 0-2.86zM5.41 20L4 18.59l7.72-7.72 1.47 1.35L5.41 20z\"/>\n",
              "  </svg>\n",
              "      </button>\n",
              "      \n",
              "  <style>\n",
              "    .colab-df-container {\n",
              "      display:flex;\n",
              "      flex-wrap:wrap;\n",
              "      gap: 12px;\n",
              "    }\n",
              "\n",
              "    .colab-df-convert {\n",
              "      background-color: #E8F0FE;\n",
              "      border: none;\n",
              "      border-radius: 50%;\n",
              "      cursor: pointer;\n",
              "      display: none;\n",
              "      fill: #1967D2;\n",
              "      height: 32px;\n",
              "      padding: 0 0 0 0;\n",
              "      width: 32px;\n",
              "    }\n",
              "\n",
              "    .colab-df-convert:hover {\n",
              "      background-color: #E2EBFA;\n",
              "      box-shadow: 0px 1px 2px rgba(60, 64, 67, 0.3), 0px 1px 3px 1px rgba(60, 64, 67, 0.15);\n",
              "      fill: #174EA6;\n",
              "    }\n",
              "\n",
              "    [theme=dark] .colab-df-convert {\n",
              "      background-color: #3B4455;\n",
              "      fill: #D2E3FC;\n",
              "    }\n",
              "\n",
              "    [theme=dark] .colab-df-convert:hover {\n",
              "      background-color: #434B5C;\n",
              "      box-shadow: 0px 1px 3px 1px rgba(0, 0, 0, 0.15);\n",
              "      filter: drop-shadow(0px 1px 2px rgba(0, 0, 0, 0.3));\n",
              "      fill: #FFFFFF;\n",
              "    }\n",
              "  </style>\n",
              "\n",
              "      <script>\n",
              "        const buttonEl =\n",
              "          document.querySelector('#df-4db25137-e83a-402e-8543-fbfaafc751f3 button.colab-df-convert');\n",
              "        buttonEl.style.display =\n",
              "          google.colab.kernel.accessAllowed ? 'block' : 'none';\n",
              "\n",
              "        async function convertToInteractive(key) {\n",
              "          const element = document.querySelector('#df-4db25137-e83a-402e-8543-fbfaafc751f3');\n",
              "          const dataTable =\n",
              "            await google.colab.kernel.invokeFunction('convertToInteractive',\n",
              "                                                     [key], {});\n",
              "          if (!dataTable) return;\n",
              "\n",
              "          const docLinkHtml = 'Like what you see? Visit the ' +\n",
              "            '<a target=\"_blank\" href=https://colab.research.google.com/notebooks/data_table.ipynb>data table notebook</a>'\n",
              "            + ' to learn more about interactive tables.';\n",
              "          element.innerHTML = '';\n",
              "          dataTable['output_type'] = 'display_data';\n",
              "          await google.colab.output.renderOutput(dataTable, element);\n",
              "          const docLink = document.createElement('div');\n",
              "          docLink.innerHTML = docLinkHtml;\n",
              "          element.appendChild(docLink);\n",
              "        }\n",
              "      </script>\n",
              "    </div>\n",
              "  </div>\n",
              "  "
            ],
            "text/plain": [
              "   Parking Difficulty (1-5)  Likely to Attend  Not Likely to Attend\n",
              "0                         1                 3                     0\n",
              "1                         2                21                     1\n",
              "2                         3                39                     5\n",
              "3                         4                 0                    17\n",
              "4                         5                 0                     8"
            ]
          },
          "execution_count": 12,
          "metadata": {},
          "output_type": "execute_result"
        }
      ],
      "source": [
        "times = df['How hard was it to find parking for the days you DID choose to attend? (1-5 scale, 5 being impossible)'].unique()\n",
        "times.sort()\n",
        "\n",
        "data = {'Parking Difficulty (1-5)':times}\n",
        "df3 = pd.DataFrame(data)\n",
        "df3[\"Likely to Attend\"] = 0\n",
        "df3['Not Likely to Attend'] = 0\n",
        "df3\n",
        "for ind in df.index:\n",
        "     if(df['How many times did you go to campus to attend class this week?'][ind] > 4):\n",
        "          timeVal = df['How hard was it to find parking for the days you DID choose to attend? (1-5 scale, 5 being impossible)'][ind]\n",
        "          timeVal\n",
        "          index = df3.index[df3['Parking Difficulty (1-5)'] == timeVal].tolist()\n",
        "          index\n",
        "          df3['Likely to Attend'][index[0]] =  df3['Likely to Attend'][index[0]] + 1 \n",
        "     else:\n",
        "          timeVal = df['How hard was it to find parking for the days you DID choose to attend? (1-5 scale, 5 being impossible)'][ind]\n",
        "          timeVal\n",
        "          index = df3.index[df3['Parking Difficulty (1-5)'] == timeVal].tolist()\n",
        "          index\n",
        "          df3[\"Not Likely to Attend\"][index[0]] = df3['Not Likely to Attend'][index[0]] + 1\n",
        "df3"
      ]
    },
    {
      "cell_type": "code",
      "execution_count": null,
      "metadata": {
        "colab": {
          "base_uri": "https://localhost:8080/"
        },
        "id": "ivugtxPVcL-s",
        "outputId": "77947b5e-ad34-4d95-b200-436aad1910de"
      },
      "outputs": [
        {
          "name": "stdout",
          "output_type": "stream",
          "text": [
            "The calculated chi squared value: 74.32113266509286 with a p-value: 6.744871119358904e-13\n"
          ]
        }
      ],
      "source": [
        "# calculate the chi-square value of the dataset\n",
        "from scipy.stats import chi2_contingency\n",
        "# https://docs.scipy.org/doc/scipy/reference/generated/scipy.stats.chi2_contingency.html\n",
        "chi, p, dfree, expected = chi2_contingency(df3)\n",
        "print(\"The calculated chi squared value:\" , chi, \"with a p-value:\", p)"
      ]
    },
    {
      "cell_type": "markdown",
      "metadata": {
        "id": "9s8NiB0rdJkp"
      },
      "source": [
        "Once again, since the p-value is less than alpha (significance level), we have no choice but to reject the null hypothesis. The chi-squared test confirms our correlation analysis.\n",
        "Therefore, there is a strong correlation between weekly attendance and parking difficulty. This makes sense, if someone cannot find parking, they cannot attend classes at all. However, it was surprising that parking time was more of a stronger correlation with attending classes than commute time. Since commute time is constant, one would expect that to be more of a factor when a person decides if going to class is \"worth it.\""
      ]
    },
    {
      "cell_type": "markdown",
      "metadata": {
        "id": "Yngs9Z4TlLB6"
      },
      "source": [
        "**Hypothesis 3**\n",
        "\n",
        "The third hypothesis we wanted to test was if in-class graded exercises affect student’s desire to attend class in person rather than online, especially for hybrid classes.\n",
        "\n",
        "Null: In-class graded exercises does not affect student’s desire to attend class in person rather than online (for hybrid classes)\n",
        "\n",
        "To start, we have a heatmap that we wanted to look at that compares the in-person graded percentage to the amount of times"
      ]
    },
    {
      "cell_type": "code",
      "execution_count": null,
      "metadata": {
        "colab": {
          "base_uri": "https://localhost:8080/",
          "height": 364
        },
        "id": "kB0g1KjtN-Ty",
        "outputId": "3acf8492-e6a4-4668-e839-f4b434e6e247"
      },
      "outputs": [
        {
          "data": {
            "image/png": "[encoded data removed]",
            "text/plain": [
              "<Figure size 432x288 with 2 Axes>"
            ]
          },
          "metadata": {
            "needs_background": "light"
          },
          "output_type": "display_data"
        }
      ],
      "source": [
        "import seaborn as sns \n",
        "grades = df['What percent of your grade is in-class exercises (0-100%)'].unique()\n",
        "grades.sort()\n",
        "hybrid = df['If a class is hybrid, how often do you attend in person (0-5 scale: 0 being never, 5 being almost all classes)?']\n",
        "schools = df[\"What school are you from\"].unique()\n",
        "schools.sort()\n",
        "data = {\"Schools\": schools}\n",
        "df3 = pd.DataFrame(index=grades)\n",
        "for str in schools:\n",
        "    df3[str] = 0\n",
        "df3\n",
        "for ind in df.index:\n",
        "    #if(df['How many times did you go to campus to attend class this week?'][ind] > 4):\n",
        "        schoolVal = df['What school are you from'][ind]\n",
        "        schoolVal\n",
        "        gradeVal = df['What percent of your grade is in-class exercises (0-100%)'][ind]\n",
        "        gradeVal\n",
        "        hybridVal = df['If a class is hybrid, how often do you attend in person (0-5 scale: 0 being never, 5 being almost all classes)?'][ind]\n",
        "        df3[schoolVal][gradeVal] = df3[schoolVal][gradeVal] + 1\n",
        "    # else:\n",
        "    #     schoolVal = df['What school are you from'][ind]\n",
        "    #     schoolVal\n",
        "    #     gradeVal = df['What percent of your grade is in-class exercises (0-100%)'][ind]\n",
        "    #     df3[schoolVal][gradeVal] = df3[schoolVal][gradeVal] - 1\n",
        "\n",
        "df3 \n",
        "\n",
        "\n",
        "ax = sns.heatmap( df3 , linewidth = 0.5)\n",
        "plt.title( \"Heat Map\" )\n",
        "plt.ylabel(\"Grade Percentages\")\n",
        "plt.show()\n"
      ]
    },
    {
      "cell_type": "markdown",
      "metadata": {
        "id": "tSgTnGsDqWnt"
      },
      "source": [
        "So this shows us that grade percentage and hybrid attendance tends not to vary across different campuses. This is good, as this shows us that irrespective of campus (mainly), most students tend to feel the same ways about grade percentages and hybrid attendance.\n",
        "\n",
        "Now, we can do correlation analysis, just like the last times."
      ]
    },
    {
      "cell_type": "code",
      "execution_count": null,
      "metadata": {
        "colab": {
          "base_uri": "https://localhost:8080/",
          "height": 279
        },
        "id": "l5M06OVwsh2-",
        "outputId": "d3468157-af27-490e-ba8f-b31a94a2df09"
      },
      "outputs": [
        {
          "data": {
            "image/png": "[encoded data removed]",
            "text/plain": [
              "<Figure size 432x288 with 1 Axes>"
            ]
          },
          "metadata": {
            "needs_background": "light"
          },
          "output_type": "display_data"
        }
      ],
      "source": [
        "percent = df[\"What percent of your grade is in-class exercises (0-100%)\"]\n",
        "hybrid = df[\"If a class is hybrid, how often do you attend in person (0-5 scale: 0 being never, 5 being almost all classes)?\"]\n",
        "m, b = np. polyfit(percent, hybrid, 1)# m = slope, b = intercept\n",
        "# this allows us to get the start and end spots for the plot\n",
        "\n",
        "# scatter plot\n",
        "plt.scatter(percent, hybrid, s = 12, c = \"purple\")\n",
        "plt.xlabel(\"Percentage\")\n",
        "plt.ylabel(\"How Many Hybrid Attended (1-5)\")\n",
        "\n",
        "# line for scatter plot\n",
        "plt.plot(percent, m*percent+b, color = 'red')\n",
        "\n",
        "plt.show()"
      ]
    },
    {
      "cell_type": "code",
      "execution_count": null,
      "metadata": {
        "colab": {
          "base_uri": "https://localhost:8080/"
        },
        "id": "Tozgga9iskAG",
        "outputId": "552eee32-4cab-4cd4-e600-c96f1e13a153"
      },
      "outputs": [
        {
          "name": "stdout",
          "output_type": "stream",
          "text": [
            "Correlation Value:  0.56527\n"
          ]
        }
      ],
      "source": [
        "# calculate the pearson's correlation between two variables\n",
        "corr = percent.corr(hybrid, method = 'pearson')\n",
        "print(\"Correlation Value: \" , round(corr, 5)) # round to 5 spots"
      ]
    },
    {
      "cell_type": "markdown",
      "metadata": {
        "id": "jYAXlVfHuvfb"
      },
      "source": [
        "The graph and data shows a strong positive correlation between the percentage of in class excersises and the desire to attend in person for hybrid classes on a scale from 1-5. The more desire a student has to attend in person for hybrid classes, the more percentage they want for in class excersises. To conclude, there is sufficient evidence to conclude that there is a significant linear relationship between x and y because the correlation coefficient is significantly different from zero."
      ]
    }
  ],
  "metadata": {
    "colab": {
      "collapsed_sections": [],
      "name": "miniproject.ipynb",
      "provenance": []
    },
    "interpreter": {
      "hash": "0bd3759d1d8aa52da212024e62c534f3eafdba18a88d1945e55a82ebd3bdefdc"
    },
    "kernelspec": {
      "display_name": "Python 3.9.7 ('base')",
      "language": "python",
      "name": "python3"
    },
    "language_info": {
      "codemirror_mode": {
        "name": "ipython",
        "version": 3
      },
      "file_extension": ".py",
      "mimetype": "text/x-python",
      "name": "python",
      "nbconvert_exporter": "python",
      "pygments_lexer": "ipython3",
      "version": "3.9.7"
    }
  },
  "nbformat": 4,
  "nbformat_minor": 0
}
